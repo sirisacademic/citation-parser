{
 "cells": [
  {
   "cell_type": "markdown",
   "id": "67e66cfa-d19f-447f-add4-e30a3b8de11d",
   "metadata": {},
   "source": [
    "# CitationParser package"
   ]
  },
  {
   "cell_type": "code",
   "execution_count": null,
   "id": "8bd463ff",
   "metadata": {},
   "outputs": [],
   "source": [
    "%pip install -e citation-parser/"
   ]
  },
  {
   "cell_type": "code",
   "execution_count": 1,
   "id": "3148b725",
   "metadata": {},
   "outputs": [],
   "source": [
    "import citation_parser\n",
    "\n",
    "my_citation_parser = citation_parser.CitationParser()"
   ]
  },
  {
   "cell_type": "markdown",
   "id": "4a5bad7d",
   "metadata": {},
   "source": [
    "## Try with one citation"
   ]
  },
  {
   "cell_type": "code",
   "execution_count": null,
   "id": "026c7c67",
   "metadata": {},
   "outputs": [
    {
     "data": {
      "text/plain": [
       "{'result': 'Hiroto Murakami, Keisuke Futashima, Minoru Nanchi, et al. (2010). Unique thermal behavior of acrylic PSAs bearing long alkyl side groups and crosslinked by aluminum chelate. European Polymer Journal, 47 378-384. doi: 10.1016/j.eurpolymj.2010.12.012',\n",
       " 'score': 0.9997150301933289,\n",
       " 'id': 'https://openalex.org/W2082866977'}"
      ]
     },
     "execution_count": 2,
     "metadata": {},
     "output_type": "execute_result"
    }
   ],
   "source": [
    "citation = \"MURAKAMI, H等: 'Unique thermal behavior of acrylic PSAs bearing long alkyl side groups and crosslinked by aluminum chelate', 《 EUROPEAN POLYMER JOURNAL》\"\n",
    "my_citation_parser.link_citation(citation)"
   ]
  },
  {
   "cell_type": "markdown",
   "id": "d1d5ccd4",
   "metadata": {},
   "source": [
    "## Try with a list of citations"
   ]
  },
  {
   "cell_type": "code",
   "execution_count": null,
   "id": "7130c291",
   "metadata": {},
   "outputs": [
    {
     "name": "stdout",
     "output_type": "stream",
     "text": [
      "MURAKAMI, H等: 'Unique thermal behavior of acrylic PSAs bearing long alkyl side groups and crosslinked by aluminum chelate', 《 EUROPEAN POLYMER JOURNAL》\n",
      "{'result': 'Hiroto Murakami, Keisuke Futashima, Minoru Nanchi, et al. (2010). Unique thermal behavior of acrylic PSAs bearing long alkyl side groups and crosslinked by aluminum chelate. European Polymer Journal, 47 378-384. doi: 10.1016/j.eurpolymj.2010.12.012', 'score': 0.9997150301933289, 'id': 'https://openalex.org/W2082866977'}\n",
      "\n",
      "\n",
      "DAVID LEVONIAN; RALF RIEDINGER; BARTHOLOMEUS MACHIELSE; ERIK KNALL; MIHIR BHASKAR; CAN KNAUT; RIVKA BEKENSTEIN; HONGKUN PARK; MARK: 'Optical Entanglement of Distinguishable Quantum Emitters', ARXIV.ORG, CORNELL UNIVERSITY LIBRARY, 201 OLIN LIBRARY CORNELL UNIVERSITY ITHACA, NY 14853, 24 August 2021 (2021-08-24), 201 Olin Library Cornell University Ithaca, NY 14853, XP091038521\n",
      "{'result': 'D.\\u2009S. Levonian, R. Riedinger, B. Machielse, et al. (2022). Optical Entanglement of Distinguishable Quantum Emitters. Physical Review Letters, 128 None-None. doi: 10.1103/physrevlett.128.213602', 'score': 0.9996867179870605, 'id': 'https://openalex.org/W3194728638'}\n",
      "\n",
      "\n",
      "Ali et al, 'Microsoft CEP Server and Online Behavioral Targeting', ACM, August 24, 2009, 4 pages.\n",
      "{'result': 'M. H. Ali, C. Gerea, B. S. Raman, et al. (2009). Microsoft CEP server and online behavioral targeting. Proceedings of the VLDB Endowment, 2 1558-1561. doi: 10.14778/1687553.1687590', 'score': 0.9994938373565674, 'id': 'https://openalex.org/W2171828861'}\n",
      "\n",
      "\n",
      "A. Sakata et al., 'Reliability Improvement by Adopting Ti-barrier Metal for Porous Low-k ILD Structure', Proceedings of International Interconnection Technology Conference, 2006, pp. 101-103.\n",
      "{'result': 'A. Sakata, S. Yamashita, S. Omoto, et al. (2007). Reliability Improvement By Adopting Ti-barrier Metal For Porous Low-k ILD Structure. AIP conference proceedings, None-None. doi: 10.1063/1.2815787', 'score': 0.9995706677436829, 'id': 'https://openalex.org/W1524577415'}\n",
      "\n",
      "\n",
      "Leinfelder et al in An In Vitro Device for Predicting Clinical Wear, Quintessence International , vol. 20, No. 10/1989, pp. 755-761.\n",
      "{'result': 'K F Leinfelder, R W Beaudreau, R B Mazer (1989). An in vitro device for predicting clinical wear.. PubMed, 20 755-61.', 'score': 0.9997019171714783, 'id': 'https://openalex.org/W2439245071'}\n",
      "\n",
      "\n",
      "MACKAY J.A.; DEEN D.F.; SZOKA F.C.: 'Distribution in brain of liposomes after convection enhanced delivery: modulation by particle charge, particle diameter, and presence ofsteric coating', BRAIN RES., vol. 103, 2005, pages 139 - 53\n",
      "{'result': None}\n",
      "\n",
      "\n",
      "T.-H Lee et al., 'Semiconductor Layer Transfer By Anodic Wafer Bonding', Proceedings 1997 IEEE International SOI Conference, Oct. 1997, pp. 40-41.\n",
      "Implement flexible search\n",
      "None\n",
      "\n",
      "\n",
      "Skerman VBD et.al., Int J Syst Bacteriol., 30:225-420, 1980\n",
      "{'result': 'V. B. D. SKERMAN, P. H. A. SNEATH, VICKI McGOWAN (1980). Approved Lists of Bacterial Names. INTERNATIONAL JOURNAL OF SYSTEMATIC AND EVOLUTIONARY MICROBIOLOGY, 30 225-420. doi: 10.1099/00207713-30-1-225', 'score': 0.9993706345558167, 'id': 'https://openalex.org/W2109886572'}\n",
      "\n",
      "\n",
      "DATABASE CROSSFIRE BEILSTEIN Beilstein Institut zur Förderung der Chemischen Wissenschaften, Frankfurt am Main, DE; XP002247576\n",
      "{'result': None}\n",
      "\n",
      "\n",
      "ROGERS ET AL.: 'Modulation of gamma-secretase by EVP-0015962 reduces amyloid deposition and behavioral deficits in Tg2576 mice.', MOLECULAR NEURODEGENERATION, vol. 7, no. 61, 2012\n",
      "{'result': 'Kathryn Rogers, Kevin M Felsenstein, Lori Hrdlicka, et al. (2012). Modulation of γ-secretase by EVP-0015962 reduces amyloid deposition and behavioral deficits in Tg2576 mice. Molecular Neurodegeneration, 7 None-None. doi: 10.1186/1750-1326-7-61', 'score': 0.9997072815895081, 'id': 'https://openalex.org/W2153156005'}\n",
      "\n",
      "\n",
      "Douglas E. Leng, NAMF Mixing Conference-Mixing XVII, 'Industrial Mixing Problems, Causes and Solutions', Banff, Aug. 16, 1999.\n",
      "{'result': ' (n.d.). Unknown Title.', 'score': 'to implement'}\n",
      "\n",
      "\n",
      "CHEN, G. ET AL.: 'AUTOANTIBODY PROFILES REVEAL UBIQUILIN 1 AS A HUMORAL IMMUNE RESPONSEE TARGET IN LUNG ADENOCARCINOMA', CANCER RESEARCH, vol. 67, no. 7, 1 April 2007 (2007-04-01), pages 3461 - 3467\n",
      "{'result': 'Guoan Chen, Xiaoju Wang, Jianjun Yu, et al. (2007). Autoantibody Profiles Reveal Ubiquilin 1 as a Humoral Immune Response Target in Lung Adenocarcinoma. Cancer Research, 67 3461-3467. doi: 10.1158/0008-5472.can-06-4475', 'score': 0.9997281432151794, 'id': 'https://openalex.org/W2115452399'}\n",
      "\n",
      "\n",
      "SIMON E. WARD ET AL.: '“Recent Advances in the Discovery of Selective AMPA Receptor Positive Allosteric Modulators”', 《CURRENT MEDICINAL CHEMISTRY》\n",
      "{'result': 'Simon E Ward, Mark Harries (2010). Recent Advances in the Discovery of Selective AMPA Receptor Positive Allosteric Modulators. Current Medicinal Chemistry, 17 3503-3513. doi: 10.2174/092986710792927840', 'score': 0.9997221827507019, 'id': 'https://openalex.org/W2043835597'}\n",
      "\n",
      "\n",
      "D. Divsalar et al., 'Turbo codes for PCS applications', Communications, 1995, ICC 95 Seattle, Gateway to Globalization, 1995 IEEE International Conference on, 1995, pp. 54-59.\n",
      "{'result': 'D. Divsalar, F. Pollara (2002). Turbo codes for PCS applications. None-None. doi: 10.1109/icc.1995.525138', 'score': 0.9996355772018433, 'id': 'https://openalex.org/W2159676920'}\n",
      "\n",
      "\n",
      "'ICI Handbook', ., pages: 1650 - 1667\n",
      "{'result': ' (n.d.). Unknown Title.', 'score': 'to implement'}\n",
      "\n",
      "\n",
      "Batura T.V. Programmnye produkty i sistemy. Nauchno-Prakticheskoe izdanie. Tver 2013, X2 3 (103), pp. 130-137 Abstract in English.\n",
      "{'result': ' (2019). Upravlâûŝie sistemy i mašiny. Upravlâûŝie sistemy i mašiny, None-None. doi: 10.15407/usim', 'score': 'to implement'}\n",
      "\n",
      "\n",
      "'The Design and Analysis of an ATM Multicast Switch with Adaptive Traffic Controller', Byun and Lee, IEEE/ACM Trans. on Networking, vol. 2, No. 3, Jun. 1994, pp. 288-298.\n",
      "{'result': 'J.W. Byun, T.T. Lee (1994). The design and analysis of an ATM multicast switch with adaptive traffic controller. IEEE/ACM Transactions on Networking, 2 288-298. doi: 10.1109/90.311627', 'score': 0.9997001886367798, 'id': 'https://openalex.org/W2117355102'}\n",
      "\n",
      "\n",
      "CHACKO N.JOSEPH ET AL.: 'Hypertension', vol. 46, October 2005, AMERICAN HEART ASSOCIATION, pages: 714 - 718\n",
      "{'result': 'Chacko N. Joseph, Cesare Porta, Gaia Casucci, et al. (2005). Slow Breathing Improves Arterial Baroreflex Sensitivity and Decreases Blood Pressure in Essential Hypertension. Hypertension, 46 714-718. doi: 10.1161/01.hyp.0000179581.68566.7d', 'score': 0.9997250437736511, 'id': 'https://openalex.org/W2112286252'}\n",
      "\n",
      "\n",
      "FERENC KOVÁCS等: 'A Rule-Based Phonocardiographic Method for Long-Term Fetal Heart Rate Monitoring', 《IEEE TRANSACTIONS ON BIOMEDICAL ENGINEERING》\n",
      "{'result': 'F. Kovacs, M. Torok, I. Habermajer (2000). A rule-based phonocardiographic method for long-term fetal heart rate monitoring. IEEE Transactions on Biomedical Engineering, 47 124-130. doi: 10.1109/10.817627', 'score': 0.9996644258499146, 'id': 'https://openalex.org/W2099743942'}\n",
      "\n",
      "\n",
      "Tanabe. H. et al 'Iron Complexes. IV. Polarography of sodium Ferric Gluconate Complex' CAPLUS, 1962\n",
      "{'result': ' (n.d.). Unknown Title.', 'score': 'to implement'}\n",
      "\n",
      "\n",
      "'Phase coding in iterative synthesis of computer generated holograms', Golub and Pavelyev, Optics and Laser Technology, Vol 27, No 4,1995.\n",
      "{'result': 'M.A. Golub, V.S. Pavelyev (1995). Phase coding in iterative synthesis of computer-generated holograms. Optics & Laser Technology, 27 223-228. doi: 10.1016/0030-3992(95)93749-h', 'score': 0.9995689988136292, 'id': 'https://openalex.org/W2030783051'}\n",
      "\n",
      "\n"
     ]
    }
   ],
   "source": [
    "citations = '''MURAKAMI, H等: 'Unique thermal behavior of acrylic PSAs bearing long alkyl side groups and crosslinked by aluminum chelate', 《 EUROPEAN POLYMER JOURNAL》\n",
    "DAVID LEVONIAN; RALF RIEDINGER; BARTHOLOMEUS MACHIELSE; ERIK KNALL; MIHIR BHASKAR; CAN KNAUT; RIVKA BEKENSTEIN; HONGKUN PARK; MARK: 'Optical Entanglement of Distinguishable Quantum Emitters', ARXIV.ORG, CORNELL UNIVERSITY LIBRARY, 201 OLIN LIBRARY CORNELL UNIVERSITY ITHACA, NY 14853, 24 August 2021 (2021-08-24), 201 Olin Library Cornell University Ithaca, NY 14853, XP091038521\n",
    "Ali et al, 'Microsoft CEP Server and Online Behavioral Targeting', ACM, August 24, 2009, 4 pages.\n",
    "A. Sakata et al., 'Reliability Improvement by Adopting Ti-barrier Metal for Porous Low-k ILD Structure', Proceedings of International Interconnection Technology Conference, 2006, pp. 101-103.\n",
    "Leinfelder et al in An In Vitro Device for Predicting Clinical Wear, Quintessence International , vol. 20, No. 10/1989, pp. 755-761.\n",
    "MACKAY J.A.; DEEN D.F.; SZOKA F.C.: 'Distribution in brain of liposomes after convection enhanced delivery: modulation by particle charge, particle diameter, and presence ofsteric coating', BRAIN RES., vol. 103, 2005, pages 139 - 53\n",
    "T.-H Lee et al., 'Semiconductor Layer Transfer By Anodic Wafer Bonding', Proceedings 1997 IEEE International SOI Conference, Oct. 1997, pp. 40-41.\n",
    "Skerman VBD et.al., Int J Syst Bacteriol., 30:225-420, 1980\n",
    "DATABASE CROSSFIRE BEILSTEIN Beilstein Institut zur Förderung der Chemischen Wissenschaften, Frankfurt am Main, DE; XP002247576\n",
    "ROGERS ET AL.: 'Modulation of gamma-secretase by EVP-0015962 reduces amyloid deposition and behavioral deficits in Tg2576 mice.', MOLECULAR NEURODEGENERATION, vol. 7, no. 61, 2012\n",
    "Douglas E. Leng, NAMF Mixing Conference-Mixing XVII, 'Industrial Mixing Problems, Causes and Solutions', Banff, Aug. 16, 1999.\n",
    "CHEN, G. ET AL.: 'AUTOANTIBODY PROFILES REVEAL UBIQUILIN 1 AS A HUMORAL IMMUNE RESPONSEE TARGET IN LUNG ADENOCARCINOMA', CANCER RESEARCH, vol. 67, no. 7, 1 April 2007 (2007-04-01), pages 3461 - 3467\n",
    "SIMON E. WARD ET AL.: '“Recent Advances in the Discovery of Selective AMPA Receptor Positive Allosteric Modulators”', 《CURRENT MEDICINAL CHEMISTRY》\n",
    "D. Divsalar et al., 'Turbo codes for PCS applications', Communications, 1995, ICC 95 Seattle, Gateway to Globalization, 1995 IEEE International Conference on, 1995, pp. 54-59.\n",
    "'ICI Handbook', ., pages: 1650 - 1667\n",
    "Batura T.V. Programmnye produkty i sistemy. Nauchno-Prakticheskoe izdanie. Tver 2013, X2 3 (103), pp. 130-137 Abstract in English.\n",
    "'The Design and Analysis of an ATM Multicast Switch with Adaptive Traffic Controller', Byun and Lee, IEEE/ACM Trans. on Networking, vol. 2, No. 3, Jun. 1994, pp. 288-298.\n",
    "CHACKO N.JOSEPH ET AL.: 'Hypertension', vol. 46, October 2005, AMERICAN HEART ASSOCIATION, pages: 714 - 718\n",
    "FERENC KOVÁCS等: 'A Rule-Based Phonocardiographic Method for Long-Term Fetal Heart Rate Monitoring', 《IEEE TRANSACTIONS ON BIOMEDICAL ENGINEERING》\n",
    "Tanabe. H. et al 'Iron Complexes. IV. Polarography of sodium Ferric Gluconate Complex' CAPLUS, 1962\n",
    "'Phase coding in iterative synthesis of computer generated holograms', Golub and Pavelyev, Optics and Laser Technology, Vol 27, No 4,1995.'''.split('\\n')\n",
    "\n",
    "for citation in citations:\n",
    "    print(citation)\n",
    "    print(my_citation_parser.link_citation(citation))\n",
    "    print('\\n')"
   ]
  }
 ],
 "metadata": {
  "kernelspec": {
   "display_name": "affilgood",
   "language": "python",
   "name": "python3"
  },
  "language_info": {
   "codemirror_mode": {
    "name": "ipython",
    "version": 3
   },
   "file_extension": ".py",
   "mimetype": "text/x-python",
   "name": "python",
   "nbconvert_exporter": "python",
   "pygments_lexer": "ipython3",
   "version": "3.9.20"
  }
 },
 "nbformat": 4,
 "nbformat_minor": 5
}
